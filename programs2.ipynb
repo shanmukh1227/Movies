{
 "cells": [
  {
   "cell_type": "code",
   "execution_count": 3,
   "id": "9f3a46a5",
   "metadata": {},
   "outputs": [
    {
     "name": "stdout",
     "output_type": "stream",
     "text": [
      "8\n",
      "8\n",
      "3\n",
      "2\n",
      "4\n",
      "4\n",
      "raj can fix both painting\n"
     ]
    }
   ],
   "source": [
    "a=int(input())\n",
    "b=int(input())\n",
    "c=int(input())\n",
    "d=int(input())\n",
    "e=int(input())\n",
    "f=int(input())\n",
    "wall=(a*b)\n",
    "p1=(c*d)\n",
    "p2=(e*f)\n",
    "if(p1<wall and p2<wall) \n",
    "    print(\"raj can fix both painting\")\n",
    "else:\n",
    "    print(\"not fix\")"
   ]
  },
  {
   "cell_type": "code",
   "execution_count": 15,
   "id": "7979c2c9",
   "metadata": {},
   "outputs": [
    {
     "name": "stdout",
     "output_type": "stream",
     "text": [
      "263\n",
      "not palindrome\n"
     ]
    }
   ],
   "source": [
    "num=int(input())\n",
    "a=num\n",
    "rev=0\n",
    "while num>0:\n",
    "    n1=num%10\n",
    "    rev=rev*10+n1\n",
    "    num=num//10\n",
    "if a==rev:\n",
    "    print(\"palindrome\")\n",
    "else:\n",
    "    print(\"not palindrome\")\n",
    "    \n"
   ]
  },
  {
   "cell_type": "code",
   "execution_count": 2,
   "id": "f8d4026e",
   "metadata": {},
   "outputs": [
    {
     "name": "stdout",
     "output_type": "stream",
     "text": [
      "990\n"
     ]
    }
   ],
   "source": [
    "a=[1,700,23,64,990]\n",
    "ln= 0\n",
    "for n in a:\n",
    "    if ln< n:\n",
    "        ln=n\n",
    "print(ln) \n",
    "  "
   ]
  },
  {
   "cell_type": "code",
   "execution_count": 39,
   "id": "77b89f77",
   "metadata": {},
   "outputs": [
    {
     "name": "stdout",
     "output_type": "stream",
     "text": [
      "name1jgjvk\n",
      "name2jhfu\n",
      "jgjvkjhfu\n",
      "name165\n",
      "name23\n",
      "68\n"
     ]
    }
   ],
   "source": [
    "def add(a,b):\n",
    "    c=a+b\n",
    "    print(c)\n",
    "a=input(\"name1\")\n",
    "b=input(\"name2\")\n",
    "add(a,b)\n",
    "a=int(input(\"name1\"))\n",
    "b=int(input(\"name2\"))\n",
    "add(a,b)\n"
   ]
  },
  {
   "cell_type": "code",
   "execution_count": 42,
   "id": "32ab945c",
   "metadata": {},
   "outputs": [
    {
     "name": "stdout",
     "output_type": "stream",
     "text": [
      "5\n",
      "0\n",
      "1\n",
      "1\n",
      "2\n",
      "3\n"
     ]
    }
   ],
   "source": [
    "n=int(input())\n",
    "a=0\n",
    "b=1\n",
    "c=0\n",
    "count=1\n",
    "while n>=count:\n",
    "    print(c)\n",
    "    count=count+1\n",
    "    a=b\n",
    "    b=c\n",
    "    c=a+b"
   ]
  },
  {
   "cell_type": "code",
   "execution_count": 54,
   "id": "415e4637",
   "metadata": {},
   "outputs": [
    {
     "name": "stdout",
     "output_type": "stream",
     "text": [
      "0,1,1,2,3,5,8,13,21,34,55,89,144,233,377,610,987,1597,2584,4181,"
     ]
    }
   ],
   "source": [
    "def fib(n):\n",
    "    if n<0:\n",
    "        print(\"invalid\")\n",
    "    elif n==1:\n",
    "        print(n)\n",
    "    else:\n",
    "        a=0\n",
    "        b=1\n",
    "        c=0\n",
    "        count=1\n",
    "        while n>=count:\n",
    "            print(c,end=',')\n",
    "            count+=1\n",
    "            a=b\n",
    "            b=c\n",
    "            c=a+b\n",
    "fib(20)"
   ]
  },
  {
   "cell_type": "code",
   "execution_count": 1,
   "id": "01b0ef75",
   "metadata": {},
   "outputs": [
    {
     "name": "stdout",
     "output_type": "stream",
     "text": [
      "10\n",
      "0,1,1,2,3,5,8,"
     ]
    }
   ],
   "source": [
    "n=int(input())\n",
    "a,b=0,1\n",
    "while a<n:\n",
    "    print(a,end=\",\")\n",
    "    a,b=b,a+b"
   ]
  },
  {
   "cell_type": "code",
   "execution_count": 4,
   "id": "2caf8c46",
   "metadata": {},
   "outputs": [
    {
     "name": "stdout",
     "output_type": "stream",
     "text": [
      "1\n",
      "20\n",
      "2\n",
      "3\n",
      "5\n",
      "7\n",
      "11\n",
      "13\n",
      "17\n",
      "19\n"
     ]
    }
   ],
   "source": [
    "a=int(input())\n",
    "b=int(input())\n",
    "for i in range(a,b):\n",
    "    if i==1:\n",
    "        continue\n",
    "    else:  \n",
    "        for j in range(2,i):\n",
    "            if i%j==0:\n",
    "                break\n",
    "        else:\n",
    "            print(i)"
   ]
  },
  {
   "cell_type": "markdown",
   "id": "dddc3c2c",
   "metadata": {},
   "source": []
  },
  {
   "cell_type": "code",
   "execution_count": null,
   "id": "eefadaa0",
   "metadata": {},
   "outputs": [
    {
     "name": "stdout",
     "output_type": "stream",
     "text": [
      "5\n"
     ]
    }
   ],
   "source": [
    "n=int(input())\n",
    "a=101\n",
    "count=0\n",
    "while count<n:\n",
    "    b=1\n",
    "    c=0\n",
    "    while b<=a:\n",
    "        if a%b==0:\n",
    "            c+=1\n",
    "    b+=1\n",
    "if c==2:\n",
    "    print(a,end=\",\")\n",
    "    count+=1 \n",
    "a+=1\n",
    "        \n",
    "    "
   ]
  },
  {
   "cell_type": "code",
   "execution_count": 14,
   "id": "365faac4",
   "metadata": {},
   "outputs": [
    {
     "name": "stdout",
     "output_type": "stream",
     "text": [
      "5\n",
      "7 5 3 4 5 "
     ]
    }
   ],
   "source": [
    "n=int(input())\n",
    "a=7\n",
    "b=0\n",
    "while b<n:\n",
    "    print(a,end=' ')\n",
    "    a=a-2\n",
    "    while a<b:\n",
    "        a=a\n",
    "        \n"
   ]
  },
  {
   "cell_type": "code",
   "execution_count": null,
   "id": "5a318cf8",
   "metadata": {},
   "outputs": [],
   "source": [
    "\n"
   ]
  }
 ],
 "metadata": {
  "kernelspec": {
   "display_name": "Python 3 (ipykernel)",
   "language": "python",
   "name": "python3"
  },
  "language_info": {
   "codemirror_mode": {
    "name": "ipython",
    "version": 3
   },
   "file_extension": ".py",
   "mimetype": "text/x-python",
   "name": "python",
   "nbconvert_exporter": "python",
   "pygments_lexer": "ipython3",
   "version": "3.10.9"
  }
 },
 "nbformat": 4,
 "nbformat_minor": 5
}
