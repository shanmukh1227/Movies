{
 "cells": [
  {
   "cell_type": "code",
   "execution_count": 8,
   "id": "0703b050",
   "metadata": {},
   "outputs": [
    {
     "name": "stdout",
     "output_type": "stream",
     "text": [
      "total no of balls:300\n",
      "total no of runs:375\n",
      "no of runs scored:78\n",
      "no of balls bowled:45\n",
      "total no of overs 50\n",
      "no of overs finished 7.3\n",
      "curent runrate 10.7\n",
      "total runrate 7.5\n",
      "eligible to win\n"
     ]
    }
   ],
   "source": [
    "a=int(input(\"total no of balls:\"))\n",
    "b=int(input(\"total no of runs:\"))\n",
    "c=int(input(\"no of runs scored:\"))\n",
    "d=int(input(\"no of balls bowled:\"))\n",
    "e=a//6\n",
    "f=str(d//6)\n",
    "g=str(d%6)\n",
    "h=f+'.'+g\n",
    "i=c/float(h)\n",
    "j=b/e\n",
    "print(\"total no of overs\",e)\n",
    "print(\"no of overs finished\",h)\n",
    "print(\"curent runrate\",round(i,1))\n",
    "print(\"total runrate\",j)\n",
    "if i<6:\n",
    "    print(\"not eligible\")\n",
    "else:\n",
    "    print(\"eligible to win\")"
   ]
  },
  {
   "cell_type": "code",
   "execution_count": null,
   "id": "d5eb5d17",
   "metadata": {},
   "outputs": [],
   "source": []
  },
  {
   "cell_type": "code",
   "execution_count": null,
   "id": "579b1963",
   "metadata": {},
   "outputs": [],
   "source": []
  }
 ],
 "metadata": {
  "kernelspec": {
   "display_name": "Python 3 (ipykernel)",
   "language": "python",
   "name": "python3"
  },
  "language_info": {
   "codemirror_mode": {
    "name": "ipython",
    "version": 3
   },
   "file_extension": ".py",
   "mimetype": "text/x-python",
   "name": "python",
   "nbconvert_exporter": "python",
   "pygments_lexer": "ipython3",
   "version": "3.10.9"
  }
 },
 "nbformat": 4,
 "nbformat_minor": 5
}
