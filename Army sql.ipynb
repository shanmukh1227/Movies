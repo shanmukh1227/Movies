{
 "cells": [
  {
   "cell_type": "code",
   "execution_count": 1,
   "id": "c1bebd4e",
   "metadata": {},
   "outputs": [],
   "source": [
    "import pymysql\n"
   ]
  },
  {
   "cell_type": "code",
   "execution_count": 2,
   "id": "588c2650",
   "metadata": {},
   "outputs": [],
   "source": [
    "x=pymysql.connect(host='localhost',user='root',password='Password@123',database='shanmukh')\n",
    "cr=x.cursor()"
   ]
  },
  {
   "cell_type": "code",
   "execution_count": 3,
   "id": "d124e556",
   "metadata": {},
   "outputs": [
    {
     "data": {
      "text/plain": [
       "0"
      ]
     },
     "execution_count": 3,
     "metadata": {},
     "output_type": "execute_result"
    }
   ],
   "source": [
    "cr.execute('create table army(id int(5),name varchar(15),age int(3))')"
   ]
  },
  {
   "cell_type": "code",
   "execution_count": 6,
   "id": "07965ec3",
   "metadata": {},
   "outputs": [
    {
     "data": {
      "text/plain": [
       "1"
      ]
     },
     "execution_count": 6,
     "metadata": {},
     "output_type": "execute_result"
    }
   ],
   "source": [
    "cr.execute('insert into army(id,name,age)values(1,\"ramesh\",30)')\n",
    "cr.execute('insert into army(id,name,age)values(2,\"suresh\",32)')\n",
    "cr.execute('insert into army(id,name,age)values(3,\"rajesh\",40)')\n",
    "\n"
   ]
  },
  {
   "cell_type": "code",
   "execution_count": 8,
   "id": "b5786d56",
   "metadata": {},
   "outputs": [],
   "source": [
    "x.commit()\n",
    "x.close()"
   ]
  },
  {
   "cell_type": "code",
   "execution_count": 10,
   "id": "260b139a",
   "metadata": {},
   "outputs": [],
   "source": [
    "x=pymysql.connect(host='localhost',user='root',password='Password@123',database='shanmukh')\n",
    "cr=x.cursor()"
   ]
  },
  {
   "cell_type": "code",
   "execution_count": 11,
   "id": "8e3b0e9e",
   "metadata": {},
   "outputs": [
    {
     "data": {
      "text/plain": [
       "1"
      ]
     },
     "execution_count": 11,
     "metadata": {},
     "output_type": "execute_result"
    }
   ],
   "source": [
    "cr.execute('insert into army(id,name,age)values(4,\"tajesh\",44)')"
   ]
  },
  {
   "cell_type": "code",
   "execution_count": 12,
   "id": "8a90962e",
   "metadata": {},
   "outputs": [],
   "source": [
    "x.commit()"
   ]
  },
  {
   "cell_type": "code",
   "execution_count": 13,
   "id": "9df3a3ec",
   "metadata": {},
   "outputs": [
    {
     "data": {
      "text/plain": [
       "1"
      ]
     },
     "execution_count": 13,
     "metadata": {},
     "output_type": "execute_result"
    }
   ],
   "source": [
    "cr.execute('insert into army(id,name,age)values(5,\"dajesh\",47)')"
   ]
  },
  {
   "cell_type": "code",
   "execution_count": 14,
   "id": "5376696a",
   "metadata": {},
   "outputs": [],
   "source": [
    "x.commit()"
   ]
  },
  {
   "cell_type": "code",
   "execution_count": null,
   "id": "1e3d6bb1",
   "metadata": {},
   "outputs": [],
   "source": []
  }
 ],
 "metadata": {
  "kernelspec": {
   "display_name": "Python 3 (ipykernel)",
   "language": "python",
   "name": "python3"
  },
  "language_info": {
   "codemirror_mode": {
    "name": "ipython",
    "version": 3
   },
   "file_extension": ".py",
   "mimetype": "text/x-python",
   "name": "python",
   "nbconvert_exporter": "python",
   "pygments_lexer": "ipython3",
   "version": "3.10.9"
  }
 },
 "nbformat": 4,
 "nbformat_minor": 5
}
