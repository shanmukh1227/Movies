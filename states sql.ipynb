{
 "cells": [
  {
   "cell_type": "code",
   "execution_count": 1,
   "id": "a81d7073",
   "metadata": {},
   "outputs": [],
   "source": [
    "import pymysql"
   ]
  },
  {
   "cell_type": "code",
   "execution_count": 2,
   "id": "242c0ae0",
   "metadata": {},
   "outputs": [],
   "source": [
    "x=pymysql.connect(host='localhost',user='root',password='Password@123',database='shanmukh')\n",
    "cr=x.cursor()"
   ]
  },
  {
   "cell_type": "code",
   "execution_count": 4,
   "id": "716abc53",
   "metadata": {},
   "outputs": [
    {
     "data": {
      "text/plain": [
       "0"
      ]
     },
     "execution_count": 4,
     "metadata": {},
     "output_type": "execute_result"
    }
   ],
   "source": [
    "cr.execute('create table state(sno int(2),state varchar(20),language varchar(10),city varchar(10))')"
   ]
  },
  {
   "cell_type": "code",
   "execution_count": 5,
   "id": "e9cb6dc1",
   "metadata": {},
   "outputs": [
    {
     "data": {
      "text/plain": [
       "1"
      ]
     },
     "execution_count": 5,
     "metadata": {},
     "output_type": "execute_result"
    }
   ],
   "source": [
    "cr.execute('insert into state(sno,state,language,city)values(1,\"Andhrapradesh\",\"Telugu\",\"Vijayawada\")')\n",
    "cr.execute('insert into state(sno,state,language,city)values(2,\"Tamilnadu\",\"Tamil\",\"Chennai\")')\n",
    "cr.execute('insert into state(sno,state,language,city)values(3,\"Kerala\",\"Malayalam\",\"TCR\")')\n",
    "cr.execute('insert into state(sno,state,language,city)values(4,\"Karnataka\",\"Kannada\",\"Bangalore\")')\n",
    "cr.execute('insert into state(sno,state,language,city)values(5,\"Goa\",\"Kongini\",\"Panaji\")')"
   ]
  },
  {
   "cell_type": "code",
   "execution_count": 7,
   "id": "4c19557e",
   "metadata": {},
   "outputs": [],
   "source": [
    "x.commit()"
   ]
  },
  {
   "cell_type": "code",
   "execution_count": 8,
   "id": "68e50926",
   "metadata": {},
   "outputs": [
    {
     "data": {
      "text/plain": [
       "1"
      ]
     },
     "execution_count": 8,
     "metadata": {},
     "output_type": "execute_result"
    }
   ],
   "source": [
    "cr.execute('insert into state(sno,state,language,city)values(6,\"Telangana\",\"Telugu\",\"Hyderabad\")')"
   ]
  },
  {
   "cell_type": "code",
   "execution_count": 9,
   "id": "56f01f88",
   "metadata": {},
   "outputs": [],
   "source": [
    "x.commit()"
   ]
  },
  {
   "cell_type": "code",
   "execution_count": 11,
   "id": "432bc2ef",
   "metadata": {},
   "outputs": [
    {
     "name": "stdout",
     "output_type": "stream",
     "text": [
      "140427180065296\n",
      "140427180065616\n",
      "140427180065936\n",
      "140427180066256\n",
      "140427180066576\n"
     ]
    }
   ],
   "source": [
    "a=[10,20,30,40,50]\n",
    "for i in a:\n",
    "    print(id(i))"
   ]
  },
  {
   "cell_type": "code",
   "execution_count": null,
   "id": "f106ee52",
   "metadata": {},
   "outputs": [],
   "source": []
  }
 ],
 "metadata": {
  "kernelspec": {
   "display_name": "Python 3 (ipykernel)",
   "language": "python",
   "name": "python3"
  },
  "language_info": {
   "codemirror_mode": {
    "name": "ipython",
    "version": 3
   },
   "file_extension": ".py",
   "mimetype": "text/x-python",
   "name": "python",
   "nbconvert_exporter": "python",
   "pygments_lexer": "ipython3",
   "version": "3.10.9"
  }
 },
 "nbformat": 4,
 "nbformat_minor": 5
}
